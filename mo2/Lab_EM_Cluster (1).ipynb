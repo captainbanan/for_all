{
 "cells": [
  {
   "cell_type": "markdown",
   "id": "093eb33b",
   "metadata": {},
   "source": [
    "# Лабораторная работа 3. Обучение без учителя\n",
    "\n",
    "Результат лабораторной работы − отчет. Мы предпочитаем принимать отчеты в формате ноутбуков IPython (ipynb-файл). Постарайтесь сделать ваш отчет интересным рассказом, последовательно отвечающим на вопросы из заданий. Помимо ответов на вопросы, в отчете также должен быть код, однако чем меньше кода, тем лучше всем: нам − меньше проверять, вам — проще найти ошибку или дополнить эксперимент. При проверке оценивается четкость ответов на вопросы, аккуратность отчета и кода.\n",
    "\n",
    "## Оценивание и штрафы\n",
    "Каждая из задач имеет определенную «стоимость» (указана в скобках около задачи). Максимально допустимая оценка за работу — 15 баллов. Сдавать задание после указанного срока сдачи нельзя. «Похожие» решения считаются плагиатом и все задействованные студенты (в том числе те, у кого списали) не могут получить за него больше 0 баллов и понижают карму. Если вы нашли решение какого-то из заданий в открытом источнике, необходимо прислать ссылку на этот источник (скорее всего вы будете не единственным, кто это нашел, поэтому чтобы исключить подозрение в плагиате, нам необходима ссылка на источник)."
   ]
  },
  {
   "cell_type": "markdown",
   "id": "db09fb63",
   "metadata": {},
   "source": [
    "## EM-алгоритм"
   ]
  },
  {
   "cell_type": "markdown",
   "id": "2706e1b9",
   "metadata": {},
   "source": [
    "### Краудсорсинг\n",
    "\n",
    "Разметка данных — одна из самых трудозатратных задач в машинном обучении. Краудсорсинг позволяет распределить эту задачу на тысячи исполнителей, каждый из которых подготавливает небольшую часть датасета (подробнее <a href=\"https://academy.yandex.ru/posts/chto-takoe-kraudsorsing-i-pochemu-emu-nuzhno-uchitsya\">тут</a>).\n",
    "\n",
    "Пользователи могут допускать ошибки при разметке, кроме того, среди пользователей могут быть боты. Если мы попросим разметить каждый объект только одного пользователя, то с большой вероятностью получим не достаточно качественную разметку. Обычно каждый объект размечают несколько пользователей.\n",
    "\n",
    "Результаты разметки нужно обработать. Самый простой метод *голос большинства*. Он заключается в том, что для каждого объекта нужно взять тот класс, который чаще всего ставили пользователи данному объекту. Это достаточно хороший метод, но он не учитывает различные особенности пользователей. Далее рассмотрим метод, который позволяет оценивать вероятность того, что разметчик ошибся.\n",
    "\n",
    "### Метод Дэвида-Скина (Dawid, Skene, 1979)\n",
    "\n",
    "Мы имеем в качестве данных $n_{ik}^u$ &mdash; количество раз, при которых разметчик $u \\in U$ поставил класс $k \\in K$ объекту $i \\in I$ (возможно, разметчик видел этот объект несколько раз). Обозначим $Y_{ik} = I\\{\\text{объект $i$ класса $k$}\\}$, это наши латентные величины. \n",
    "\n",
    "В качестве параметров имеем\n",
    "* $\\pi_{k\\ell}^u$ &mdash; вероятность того, что разметчик $u$ поставил класс $\\ell$ вместо правильного класса $k$. \n",
    "* $\\rho_k$ &mdash; вероятность класса $k$.\n",
    "\n",
    "Поймём, какой будет функция неполного правдоподобия в этой задаче. Прежде всего,\n",
    "\n",
    "$$p_{\\pi,p}(N, Y) = \\prod_{i\\in I}p(N_i, Y_i),$$\n",
    "\n",
    "Если $k$ - номер класса $i$-го объекта, то\n",
    "\n",
    "$$p(N_i, Y_i)=\\underbrace{p(\\text{объект $i$ класса $k$})}_{=\\rho_k}p(N_i\\mid\\text{объект $i$ класса $k$})$$\n",
    "\n",
    "(значения $Y_{it}$ однозначно определяются номером истинного класса, поэтому справа $Y_i$ пропадает). Далее, мы считаем, что разметчики действуют независимо, поэтому\n",
    "\n",
    "$$p(N_i\\mid\\text{объект $i$ класса $k$}) = \\prod_{u\\in U}p(N_i^u\\mid\\text{объект $i$ класса $k$}).$$\n",
    "\n",
    "Разберёмся с величиной $p(N_i^u\\mid\\text{объект $i$ класса $k$})$. Она отвечает за то, какие классы $u$-й разметчик ставил $i$-му объекту. Мы считаем, что встречи разметчика с объектом упорядочены по времени, тогда\n",
    "\n",
    "$$p(\\text{$u$-й разметчик отнёс $i$-й объект к классам $k'_1,\\ldots,k'_r$}\\mid\\text{объект $i$ класса $k$}) =$$\n",
    "\n",
    "$$=\\prod_{s}p(\\text{в $s$-ю встречу с $i$-м объектом $u$-й разметчик отнёс его к классу $k'_s$}\\mid\\text{объект $i$ класса $k$})$$\n",
    "\n",
    "Эту вероятность можно переписать в виде\n",
    "\n",
    "$$\\prod_{\\ell \\in K} \\left( \\pi_{k\\ell}^u \\right)^{n_{i\\ell}^u},$$\n",
    "\n",
    "а итоговое неполное правдоподобие предстаёт в виде\n",
    "\n",
    "$$p_{\\pi,p}(N, Y) = \\prod_{i\\in I}\\prod_{k \\in K} \\left( \\rho_k \\prod_{u\\in U} \\prod_{\\ell \\in K} \\left( \\pi_{k\\ell}^u \\right)^{n_{i\\ell}^u} \\right)^{Y_{ik}}$$\n",
    "\n",
    "Его нам нужно максимизировать по $\\pi$ и $\\rho$\n",
    "\n",
    "**Пояснение к формуле:** \n",
    "\n",
    "Вне больших скобок фиксируются объект и его класс, сама скобка возводится в степень 1, если рассматривается правильный класс объекта, и в степень 0 иначе. Внутри сначала записана вероятность того, что объект имеет данный класс, а затем &mdash; перебор по всем пользователям и всем классам, которые мог поставить данный пользователь. Наконец, записывается вероятность того, что пользователь нашему объекту поставил некоторый класс, которая возводится в степень того, сколько раз он поставил этот класс. Например, если пользователь видел изображение котика 5 раз, при этом 3 раза он сказал, что котик, а два раза &mdash; песик, то вероятность $\\pi_{cat,cat}^u$ для данного котика учтется 3 раза, а вероятность $\\pi_{cat,dog}^u$ &mdash; 2 раза."
   ]
  },
  {
   "cell_type": "markdown",
   "id": "879d9178",
   "metadata": {},
   "source": [
    "**Задание 1 (2 балл)**\n",
    "\n",
    "Распишите итерационную процедуру EM-алгоритма и значение ELBO в методе Дэвида-Скина."
   ]
  },
  {
   "cell_type": "markdown",
   "id": "5dd998d4",
   "metadata": {},
   "source": [
    "помним что у ELBO в общем случае вид $\\int q(Y)\\log \\frac{p_{\\theta}(N, Y)}{q(Y)}dY$ \\\n",
    "в нашем случае $\\theta = (\\pi, \\rho)$\\ \n",
    "тут у нас $Y \\in \\{0,1\\}^{|I|*|K|}$ \\\n",
    "а сам интеграл превращается в сумму по всем $Y$ \\\n",
    "\\\n",
    "**E-шаг**\n",
    "$$q(Y) = Pr(Y|N) \\propto p_{\\pi, \\rho}(N, Y)$$\n",
    "дальше как в примере из лекции говорим что плотность можно представить как\n",
    "$$q(Y) = \\prod_{i} q_{i}(Y_{i})$$ \n",
    "\n",
    "$$q_{i}(Y_{i}) \\propto \\prod_{k \\in K} \\left( \\rho_k \\prod_{u\\in U} \\prod_{\\ell \\in K} \\left( \\pi_{k\\ell}^u \\right)^{n_{i\\ell}^u} \\right)^{Y_{ik}}$$\n",
    "теперь пусть объект $i$ пренадлжеит конкретному классу $k$, тогда\n",
    "$$q_i(k) \\propto \\rho_k \\prod_{u\\in U} \\prod_{\\ell \\in K} \\left( \\pi_{k\\ell}^u \\right)^{n_{i\\ell}^u}$$\n",
    "$$q_i(k) = \\frac{\\rho_k \\prod_{u\\in U} \\prod_{\\ell \\in K} \\left( \\pi_{k\\ell}^u \\right)^{n_{i\\ell}^u}}{\\sum_{r\\in K} \\rho_r \\prod_{u\\in U} \\prod_{\\ell \\in K} \\left(\\pi_{r\\ell}^u \\right)^{n_{i\\ell}^u}} = \\gamma_{i,k}$$ \n",
    "\n",
    "**M-шаг** \\\n",
    "нам нужно максимизировать по $\\pi, \\rho$ выражение $E \\log p(N, Y)$\n",
    "$$E_q \\log p(N, Y) = \\sum_{i\\in I}\\sum_{k \\in K} E(Y_{i,k}) * (\\log \\rho_k + \\sum_{u\\in U} \\sum_{\\ell \\in K} n_{i\\ell}^u \\log \\pi_{k\\ell}^u) $$\n",
    "***по $\\rho$*** \\\n",
    "у наc функционал:\n",
    "$$ \\sum_{i\\in I}\\sum_{k \\in K} \\gamma_{i,k} * \\log \\rho_k$$\n",
    "$$ \\sum_{k \\in K} \\rho_k =1$$\n",
    "дальше ровно этот пример был на лекции, получаем\n",
    "$$\\rho_k = \\sum_{i\\in I} \\frac{\\gamma_{i,k}}{|I|}$$\n",
    "\n",
    "\n",
    "***по $\\pi$*** \\\n",
    "мы максимизируем по $\\pi$\n",
    "$$\\sum_{i\\in I}\\sum_{k \\in K} E(Y_{i,k}) \\sum_{u\\in U} \\sum_{\\ell \\in K} n_{i\\ell}^u \\log \\pi_{k\\ell}^u$$\n",
    "при\n",
    "$$\\forall k, u \\sum_{\\ell \\in K} \\pi_{k\\ell}^u = 1$$ \n",
    "это на самом деле та же задача еще несколько раз\n",
    "получаем \n",
    "$$\\pi_{k\\ell}^u = \\frac{\\sum_i \\gamma_{i,k} n_{i,\\ell}^u}{\\sum_i \\sum_{\\ell} \\gamma_{i,k} * n_{i, \\ell}^u} $$\n",
    "\n",
    "\n"
   ]
  },
  {
   "cell_type": "markdown",
   "id": "feda7910",
   "metadata": {},
   "source": [
    "**Задание 2 (3 балла)** \n",
    "\n",
    "Реализуйте следующие методы агрегации результатов разметки в краудсорсинге:\n",
    "\n",
    "* голосование по большинству;\n",
    "* метод Дэвида-Скина.\n",
    "\n",
    "Оба метода должны возвращать вероятность принадлежности объекта каждому из классов (итоговая метка получается выбором класса с наибольшей оценкой вероятности). \n",
    "\n",
    "Заметим, что метод голосования по большинству можно реализовать с помощью одной агрегирующей функцией `pandas.crosstab`, а метод Дэвида-Скина основывается на EM-алгоритме (при реализации стоит учесть, что EM-алгоритм сходится в локальные оптимумы, то есть его стоит запускать из разных начальных приближений).\n",
    "\n",
    "Примените эти два метода к датасетам *Toloka Aggregation Relevance 2* и *Toloka Aggregation Relevance 5*, которые можно скачать <a href=\"https://toloka.ai/ru/datasets\">тут</a>, и сравните их между собой. \n",
    "\n",
    "Обратите внимание, что в последнем датасете 5 различных меток, причем некоторые объекты в датасете имеют не один, а несколько правильных ответов. Любой из таких ответов считается правильным."
   ]
  },
  {
   "cell_type": "code",
   "execution_count": 187,
   "id": "ad50722a",
   "metadata": {},
   "outputs": [],
   "source": [
    "import numpy\n",
    "import pandas as pd\n",
    "import typing as tp\n",
    "import numpy as np\n",
    "from numba import njit, types\n",
    "from numba.experimental import jitclass\n",
    "from sklearn import preprocessing\n",
    "from sklearn.feature_extraction.text import CountVectorizer\n",
    "import matplotlib.pyplot as plt\n",
    "from sklearn.base import TransformerMixin\n",
    "from tqdm import tqdm"
   ]
  },
  {
   "cell_type": "code",
   "execution_count": 144,
   "id": "53bd1934",
   "metadata": {},
   "outputs": [],
   "source": [
    "class EMAlgo:\n",
    "\n",
    "    answers: np.ndarray\n",
    "    gamma: np.ndarray\n",
    "    pi: np.ndarray\n",
    "    rho: np.ndarray\n",
    "    answers_df: pd.DataFrame\n",
    "\n",
    "    def __init__(self, df: pd.DataFrame, df_answers: pd.DataFrame, pi: tp.Optional[np.ndarray]=None,\n",
    "                 rho: tp.Optional[np.ndarray]=None, gamma: tp.Optional[np.ndarray]=None):\n",
    "        df = df.copy()\n",
    "        df_answers = df_answers.copy()\n",
    "\n",
    "        len_obj = len(df['obj'].unique())\n",
    "        len_users = len(df['user'].unique())\n",
    "        num_classes = len(df['label'].unique())\n",
    "\n",
    "        if pi is None:\n",
    "            pi = np.zeros([len_users, num_classes, num_classes])\n",
    "            for class_ in range(num_classes):\n",
    "                pi_raw = np.random.rand(num_classes)\n",
    "                pi_raw = pi_raw / np.sum(pi_raw)\n",
    "                pi[:, :, class_] = pi_raw\n",
    "\n",
    "        if rho is None:\n",
    "            rho = np.random.rand(num_classes)\n",
    "            rho = rho / np.sum(rho)\n",
    "\n",
    "        object_encoder = preprocessing.LabelEncoder()\n",
    "        object_encoder.fit(df['obj'])\n",
    "        df[\"obj\"] = object_encoder.transform(df[\"obj\"])\n",
    "\n",
    "        df_answers['obj'] = object_encoder.transform(df_answers['obj'])\n",
    "\n",
    "        df[\"user\"] = df[\"user\"].astype('category')\n",
    "        df[\"user\"] = df[\"user\"].cat.codes\n",
    "\n",
    "\n",
    "\n",
    "\n",
    "        answers = np.zeros([len_obj, len_users, num_classes])\n",
    "        for i, row in df.iterrows():\n",
    "            answers[row['obj'], row['user'], row['label']] += 1\n",
    "\n",
    "        if gamma is None:\n",
    "            gamma = []\n",
    "            for _ in range(len_obj):\n",
    "                new_gammas = np.random.rand(num_classes)\n",
    "                new_gammas = new_gammas / sum(new_gammas)\n",
    "                gamma.append(new_gammas)\n",
    "            gamma = np.array(gamma)\n",
    "\n",
    "        self.gamma = gamma\n",
    "        self.pi = pi\n",
    "        self.rho = rho\n",
    "        self.answers_df = df_answers\n",
    "        self.answers = answers\n",
    "\n",
    "    def E_step(self):\n",
    "        global predictions_probs\n",
    "        predictions_probs = self.pi[None, ...] ** self.answers[..., None]\n",
    "        predictions_probs = predictions_probs.prod(axis=(1, 2)) * self.rho[None, :]\n",
    "        predictions_probs = predictions_probs / (predictions_probs.sum(axis=-1, keepdims=True) + 1e-9)\n",
    "        self.gamma = predictions_probs\n",
    "\n",
    "    def M_step(self):\n",
    "        new_rho = self.gamma.sum(axis=0) / len(self.gamma)\n",
    "\n",
    "        new_pi = self.answers[:, :, None, :] * self.gamma[:, None, :, None]\n",
    "        new_pi = new_pi.sum(axis=0)\n",
    "        new_pi = new_pi / (new_pi.sum(axis=-1, keepdims=True) + 1e-8)\n",
    "\n",
    "        self.rho = new_rho\n",
    "        self.pi = new_pi\n",
    "\n",
    "    def get_ELBO(self):\n",
    "        likelihood = (np.log(self.pi[None, ...] + 1e-8) * self.answers[..., None]).sum(axis=(1, 2))\n",
    "        likelihood += np.log(self.rho + 1e-8)[None, :]\n",
    "        likelihood = (self.gamma * likelihood).sum()\n",
    "\n",
    "        entropy = (self.gamma * np.log(self.gamma + 1e-8)).sum()\n",
    "\n",
    "        return likelihood - entropy\n",
    "\n",
    "    def get_accuracy(self, predicts):\n",
    "        guesses = []\n",
    "        for i, predict in enumerate(predicts):\n",
    "            row = self.answers_df[self.answers_df['obj'] == i]\n",
    "            if len(row):\n",
    "                guesses.append(predict == row['label'])\n",
    "\n",
    "        return np.mean(guesses)\n",
    "\n",
    "\n",
    "\n",
    "    def fit(self, steps):\n",
    "        predicts = self.gamma.argmax(axis=1)\n",
    "        print(f'initial accuracy: {self.get_accuracy(predicts)}')\n",
    "        for _ in range(steps):\n",
    "            print('E step')\n",
    "            self.E_step()\n",
    "            print('M step')\n",
    "            self.M_step()\n",
    "            predicts = self.gamma.argmax(axis=1)\n",
    "            print(f'accuracy: {self.get_accuracy(predicts)}')\n"
   ]
  },
  {
   "cell_type": "code",
   "execution_count": 145,
   "outputs": [],
   "source": [
    "tar2 = pd.read_csv('~/Downloads/TlkAgg2/crowd_labels.tsv', sep='\\t', names=['user', 'obj', 'label'])\n",
    "tar2_answers = pd.read_csv('~/Downloads/TlkAgg2/golden_labels.tsv', sep='\\t', names=['obj', 'label'])\n",
    "\n",
    "EM = EMAlgo(tar2, tar2_answers)"
   ],
   "metadata": {
    "collapsed": false
   }
  },
  {
   "cell_type": "code",
   "execution_count": 172,
   "outputs": [
    {
     "name": "stdout",
     "output_type": "stream",
     "text": [
      "initial accuracy: 0.5020339319376922\n",
      "E step\n",
      "M step\n",
      "accuracy: 0.6486099811489235\n",
      "E step\n",
      "M step\n",
      "accuracy: 0.79212322651056653\n"
     ]
    }
   ],
   "source": [
    "EM.fit(2)"
   ],
   "metadata": {
    "collapsed": false
   }
  },
  {
   "cell_type": "code",
   "execution_count": 122,
   "outputs": [
    {
     "data": {
      "text/plain": "0.7763667030459371"
     },
     "execution_count": 122,
     "metadata": {},
     "output_type": "execute_result"
    }
   ],
   "source": [
    "mv2 = pd.crosstab(tar2['obj'], tar2['label'])\n",
    "mv2['maj_label'] = mv2.idxmax(axis=1)\n",
    "mv2_labels = mv2.maj_label.tolist()\n",
    "\n",
    "EM.get_accuracy(mv2_labels)"
   ],
   "metadata": {
    "collapsed": false
   }
  },
  {
   "cell_type": "code",
   "execution_count": 167,
   "id": "099f24cb",
   "metadata": {},
   "outputs": [],
   "source": [
    "tar5 = pd.read_csv('~/Downloads/TlkAgg5/crowd_labels.tsv', sep='\\t', names=['user', 'obj', 'label'])\n",
    "tar5['label'] = tar5['label'] - 1\n",
    "tar5_answers = pd.read_csv('~/Downloads/TlkAgg5/golden_labels.tsv', sep='\\t', names=['obj', 'label'])\n",
    "tar5_answers['label'] = tar5_answers['label'] - 1"
   ]
  },
  {
   "cell_type": "code",
   "execution_count": 168,
   "outputs": [],
   "source": [
    "EM5 = EMAlgo(tar5, tar5_answers)"
   ],
   "metadata": {
    "collapsed": false
   }
  },
  {
   "cell_type": "code",
   "execution_count": 173,
   "outputs": [
    {
     "name": "stdout",
     "output_type": "stream",
     "text": [
      "initial accuracy: 0.4223520084\n",
      "E step\n",
      "M step\n",
      "accuracy: 0.45473684210\n",
      "E step\n",
      "M step\n",
      "accuracy: 0.518823529411\n",
      "E step\n",
      "M step\n",
      "accuracy: 0.63292317679558\n",
      "E step\n",
      "M step\n",
      "accuracy: 0.675583978835107\n",
      "\n"
     ]
    }
   ],
   "source": [
    "EM5.fit(5)"
   ],
   "metadata": {
    "collapsed": false
   }
  },
  {
   "cell_type": "code",
   "execution_count": 175,
   "outputs": [
    {
     "name": "stdout",
     "output_type": "stream",
     "text": [
      "0.8991738971\n"
     ]
    }
   ],
   "source": [
    "mv5 = pd.crosstab(tar5['obj'], tar5['label'])\n",
    "mv5['maj_label'] = mv5.idxmax(axis=1)\n",
    "mv5_labels = mv5.maj_label.tolist()\n",
    "\n",
    "EM5.get_accuracy(mv5_labels)"
   ],
   "metadata": {
    "collapsed": false
   }
  },
  {
   "cell_type": "markdown",
   "source": [
    "**Задание 3 (1 балл)**\n",
    "\n",
    "Попробуйте в методе Дэвида-Скина в качестве начального приближения вероятностей классов для каждого объекта подавать те вероятности, которые посчитаны методом голосования по большинству, и провести сначала M-шаг."
   ],
   "metadata": {
    "collapsed": false
   }
  },
  {
   "cell_type": "markdown",
   "id": "86d9a3af",
   "metadata": {},
   "source": [
    "Далее мы будем работать с таблицей `vacancies.csv` и нам нужно подготовить данные для работы, а именно сделайте следующее:\n",
    "    \n",
    "- Разбейте данные на обучающую выборку (строки, не содержащие метки кластеров) и тестовую (строки, содержащие метки кластеров)\n",
    "- Предобработайте текст, содержащийся в колонках *name* и *description* (уберите артефакты, нормализуйте и т.д.)"
   ]
  },
  {
   "cell_type": "code",
   "execution_count": 177,
   "outputs": [],
   "source": [
    "df_vac = pd.read_csv('~/Downloads/vacancies.csv')"
   ],
   "metadata": {
    "collapsed": false
   }
  },
  {
   "cell_type": "code",
   "execution_count": 178,
   "outputs": [
    {
     "name": "stderr",
     "output_type": "stream",
     "text": [
      "/Users/captainbanana/env/lib/python3.9/site-packages/bs4/__init__.py:435: MarkupResemblesLocatorWarning: The input looks more like a filename than markup. You may want to open this file and pass the filehandle into Beautiful Soup.\n",
      "  warnings.warn(\n"
     ]
    }
   ],
   "source": [
    "from bs4 import BeautifulSoup\n",
    "df_vac = df_vac[['name', 'description', 'category']]\n",
    "\n",
    "def parse(txt):\n",
    "    return BeautifulSoup(txt).text\n",
    "df_vac['name'] = df_vac['name'].apply(lambda x: parse(x))\n",
    "df_vac['description'] = df_vac['description'].apply(lambda x: parse(x))"
   ],
   "metadata": {
    "collapsed": false
   }
  },
  {
   "cell_type": "code",
   "execution_count": 179,
   "outputs": [],
   "source": [
    "cv = CountVectorizer(max_df=0.95,\n",
    "                     min_df=0.03,\n",
    "                     strip_accents='unicode',\n",
    "                     analyzer='word',\n",
    "                     lowercase=True)\n",
    "X = cv.fit_transform((df_vac['name'] + ' ' + df_vac['description']))"
   ],
   "metadata": {
    "collapsed": false
   }
  },
  {
   "cell_type": "code",
   "execution_count": 180,
   "outputs": [],
   "source": [
    "df_test = df_vac[df_vac['category'].isna()]\n",
    "df_train = df_vac[df_vac['category'].notna()]"
   ],
   "metadata": {
    "collapsed": false
   }
  },
  {
   "cell_type": "code",
   "execution_count": 184,
   "outputs": [],
   "source": [
    "X_train = X[df_train.index.to_numpy()]\n",
    "X_train = pd.DataFrame(X_train.toarray(), columns=cv.vocabulary_, index=df_train.index).T\n",
    "X_test = X[df_test.index.to_numpy()]\n",
    "X_test = pd.DataFrame(X_test.toarray(), columns=cv.vocabulary_, index=df_test.index).T"
   ],
   "metadata": {
    "collapsed": false
   }
  },
  {
   "cell_type": "markdown",
   "id": "535458f6",
   "metadata": {},
   "source": [
    "### Тематическое моделирование\n",
    "\n",
    "Тематическое моделирование заключается в поиске тем $T$, которые хорошо бы описывали документы $D$ со словарём $W$. Большинство тематических моделей оперирует данными в формате \"мешка слов\", т.е. учитывают только частоты слов в документах, а не их порядок. Одной из простейших тематических моделей является [PLSA](https://en.wikipedia.org/wiki/Probabilistic_latent_semantic_analysis), которая приводит к задаче стохастического матричного разложения: \n",
    "\n",
    "$$F \\approx \\Phi \\times \\Theta$$\n",
    "где\n",
    "- $F_{W \\times D}$— матрица распределений слов в документах (нормированные частоты)\n",
    "- $\\Phi_{W \\times T}$ — матрица распределений слов в темах (модель)\n",
    "- $\\Theta_{T \\times D}$ — матрица распределений тем в документах (результат применения модели к обучающим данным)\n",
    "\n",
    "Можно сказать, что алгоритмы тематического моделирования производят мягкую бикластеризацию данных:\n",
    " - *мягкую*, так как объекты относятся не строго к одному кластеру, а к нескольким с разными вероятностями\n",
    " - *бикластеризацию*, так как модель одновременно кластеризует слова по темам и темы по документам.\n",
    " \n",
    " С вероятностной точки зрения, задача обучения модели PLSA ставится как максимизация неполного правдоподобия по параметам $\\Phi$ и $\\Theta$. ЕМ-алгоритм для модели PLSA заключается в повторении двух шагов:\n",
    "\n",
    "- **Е-шаг** — оценка распределений тем для каждого слова в каждом документе по параметрам $\\Phi$ и $\\Theta$ (шаг 6);\n",
    "- **М-шаг** — обновление параметров $\\Phi$ и $\\Theta$ на основе полученных оценок (шаги 7 и 9).\n",
    "\n",
    "Существуют различные модификации итерационного процесса, позволяющие снизить расходы по памяти. В данном случае, мы избежим хранения трехмерной матрицы $p_{tdw}$, сразу пересчитывая $\\Theta$ для текущего документа и аккумулируя счетчики $n_{wt}$ для последующего пересчета $\\Phi$.\n",
    "\n",
    "Псевдокод алгоритма записывается следующим образом:\n",
    "\n",
    "1. Инициализировать $\\phi_{wt}^0$ для всех $w \\in W$, $t \\in T$ и $\\theta_{td}^0$ для всех $t \\in T$, $d \\in D$\n",
    "2. Внешний цикл по итерациям $i = 1 ... max\\_iter$:\n",
    "3. $\\quad$ $n_{wt}^i := 0$, $n_t^i := 0$ для всех $w \\in W$ и $t \\in T$ \n",
    "4. $\\quad$ Внутренний цикл по документам $d \\in D$  \n",
    "5. $\\qquad$ $Z_w := \\sum_{t \\in T} \\phi_{wt}^{i-1}\\theta_{td}^{i-1}$ для всех $w \\in d$ $\\cfrac{}{}$\n",
    "6. $\\qquad$ $p_{tdw} := \\cfrac{ \\phi_{wt}^{i-1}\\theta_{td}^{i-1} }{ Z_w }$ (**E-шаг**)\n",
    "7. $\\qquad$ $\\theta_{td}^{i} := \\cfrac{ \\sum_{w \\in d} n_{dw} p_{tdw} }{ n_d }$ для всех $t \\in T$ (**M-шаг**)\n",
    "8. $\\qquad$ Увеличить $n_{wt}^i$ и $n_t^i$ на $n_{dw} p_{tdw}$ для всех $w \\in W$ и $t \\in T$\n",
    "9. $\\quad \\phi_{wt}^i := \\cfrac{n_{wt}^i}{n_t^i}$ для всех $w \\in W$ и $t \\in T$ (**M-шаг**)\n",
    "\n",
    "Обозначения:\n",
    " - $p_{tdw}$ — вероятность темы $t$ для слова $w$ в документе $d$\n",
    " - $\\phi_{wt}$ — элемент матрицы $\\Phi$, соответствующий вероятности слова $w$ в теме $t$\n",
    " - $\\theta_{td}$ — элемент матрицы $\\Theta$, соответствующий вероятности темы $t$ в документе $d$\n",
    " - $n_{wt}$ — элемент матрицы счётчиков отнесения слова $w$ к теме $t$ (путем нормирования этой матрицы получается матрица $\\Phi$)\n",
    " - $Z_w$ — элемент вектора вспомогательных переменных, соответствующий слову $w$\n",
    " - $n_t$ — вектор нормировочных констант для матрицы $n_{wt}$\n",
    " - $n_d$ — вектор нормировочных констант для матрицы $n_{dw}$\n",
    " - $n$ — суммарное число слов в коллекции\n",
    "\n",
    "Для оценивания качества построенной модели и контроля сходимости процесса обучения обычно используют [перплексию](http://www.machinelearning.ru/wiki/images/8/88/Voron-iip9-talk.pdf):\n",
    "\n",
    "$$\\mathcal{P} = \\exp\\bigg(- \\frac{\\mathcal{L}}{n} \\bigg) = \\exp\\bigg(- \\cfrac{1}{n}\\sum_{d \\in D}\\sum_{w \\in d} n_{dw} \\ln \\big(\\sum_{t \\in T}\\phi_{wt}\\theta_{td} \\big)\\bigg)$$\n",
    "\n",
    "Это традиционная мера качества в тематическом моделировании, которая основана на правдоподобии модели $\\mathcal{L}$. Число итераций $max\\_iter$ в алгоритме обучения следует выбирать достаточным для того, чтобы перплексия перестала существенно убывать. Однако известно, что перплексия плохо отражает интерпретируемость найденных тем, поэтому помимо нее обычно используются дополнительные меры или экспертные оценки.\n",
    "\n",
    "**Рекомендации к реализации:**\n",
    "\n",
    "- При делении на нулевые значения нужно просто заменить частное на ноль.\n",
    "- ЕМ-алгоритм стоит реализовывать с использованием векторных операций. Для проверки корректности реализации сперва можно написать скалярную версию, после чего векторизовать её, удостоверившись, что обе реализации дают одинаковый результат. Невекторизованный алгоритм может работать в сотни раз медленнее векторизованного, и его использование может привести к невозможности выполнения задания.\n",
    "- Итерационный процесс следует начинать, инициализировав матрицы $\\Phi$ и $\\Theta$. Инициализация может быть случайной, важно не забыть отнормировать столбцы матриц.\n",
    "- Неэффективная реализация перплексии может в разы замедлить работу алгоритма."
   ]
  },
  {
   "cell_type": "markdown",
   "id": "3d0e7ebd",
   "metadata": {},
   "source": [
    "**Задание 4 (3 балла)**\n",
    "\n",
    "Реализуйте описанный выше ЕМ-алгоритм для модели *PLSA* и добавьте в вашу реализацию подсчёт перплексии. \n",
    "\n",
    "Примените ваш алгоритм к подготовленным ранее данным (объедините текст из колонок *name* и *description*), рассмотрев число тем T = 5, а также:\n",
    "\n",
    "* Постройте график значения перплексии в зависимости от итерации (убедитесь в корректности реализации: график перплексии должен быть невозрастающим). \n",
    "* Выведите для каждой темы топ-20 наиболее вероятных слов.\n",
    "\n",
    "Посмотрите внимательно на полученные темы. Как вам кажется, получились ли они интерпретируемыми?"
   ]
  },
  {
   "cell_type": "code",
   "execution_count": 188,
   "id": "a4c96754",
   "metadata": {},
   "outputs": [],
   "source": [
    "class PLSA():\n",
    "    def __init__(self, num_topics=5, num_iter=10):\n",
    "        self.num_topics = num_topics\n",
    "        self.topic_names = [f'topic_{index}' for index in range(num_topics)]\n",
    "        self.num_iter = num_iter\n",
    "\n",
    "    def initialization(self, vocabulary, doc_names):\n",
    "        self.phi = pd.DataFrame(np.random.dirichlet(np.ones(self.num_topics), size=len(vocabulary)), index=vocabulary, columns=self.topic_names)\n",
    "        self.theta = pd.DataFrame(np.random.dirichlet(np.ones(len(doc_names)), size=self.num_topics), index=self.topic_names, columns=doc_names)\n",
    "\n",
    "    def Iter(self, X):\n",
    "        elbo = 0\n",
    "        divider = self.phi @ self.theta  # ~= F WxD matrix.\n",
    "        for t in range(self.num_topics):\n",
    "            phi = self.phi.values[:, t][:, None]\n",
    "            theta = self.theta.values[t][None]\n",
    "            self.gamma = phi@theta / divider\n",
    "            X_g = X * self.gamma\n",
    "\n",
    "            elbo += np.sum(np.sum(self.gamma * (np.log(phi) + np.log(theta)) * X.values)) - \\\n",
    "                    np.sum(np.sum(self.gamma * np.log(self.gamma) * X.values))\n",
    "            self.theta.values[t] = X_g.sum(axis=0)\n",
    "            self.phi.values[:, t] = X_g.sum(axis=1)\n",
    "        self.phi /= self.phi.sum(axis=0)\n",
    "        self.theta /= self.theta.sum(axis=0)\n",
    "        self.scores['elbo'].append(elbo)\n",
    "\n",
    "\n",
    "    def get_ELBO(self, X):\n",
    "        return (\n",
    "            self.gamma * (np.log(self.phi.values.T[:, :, np.newaxis])\n",
    "                          + np.log(self.theta.values[:, np.newaxis, :]))\n",
    "            * X.values[np.newaxis, :, :]\n",
    "        ).sum() - (\n",
    "            self.gamma * np.log(self.gamma) * X.values[np.newaxis, :, :]\n",
    "        ).sum()\n",
    "\n",
    "    def get_perplexity(self, X):\n",
    "        return np.exp(-(X * np.log(self.phi @ self.theta)).values.sum()/X.values.sum())\n",
    "\n",
    "    def fit(self, X):\n",
    "        self.initialization(X.index, X.columns)\n",
    "\n",
    "        self.scores = {'perplexity': [self.get_perplexity(X)], 'elbo': []}\n",
    "        for _ in tqdm(range(self.num_iter), desc='Итерации EM'):\n",
    "            self.Iter(X)\n",
    "            self.scores['perplexity'].append(self.get_perplexity(X))\n",
    "\n",
    "        return self"
   ]
  },
  {
   "cell_type": "code",
   "execution_count": 189,
   "outputs": [
    {
     "name": "stderr",
     "output_type": "stream",
     "text": [
      "Итерации EM: 100%|██████████| 10/10 [01:00<00:00,  6.03s/it]\n"
     ]
    },
    {
     "data": {
      "text/plain": "<__main__.PLSA at 0x154f7f9d0>"
     },
     "execution_count": 189,
     "metadata": {},
     "output_type": "execute_result"
    }
   ],
   "source": [
    "model = PLSA()\n",
    "model.fit(X_train)"
   ],
   "metadata": {
    "collapsed": false
   }
  },
  {
   "cell_type": "code",
   "execution_count": 190,
   "outputs": [
    {
     "data": {
      "text/plain": "<Figure size 864x288 with 2 Axes>",
      "image/png": "[encoded data removed]"
     },
     "metadata": {
      "needs_background": "light"
     },
     "output_type": "display_data"
    }
   ],
   "source": [
    "def show_metrics(model):\n",
    "    plt.figure(figsize=(12, 4))\n",
    "    plt.subplot(121)\n",
    "    plt.plot(model.scores['elbo'][1:], color='magenta')\n",
    "    plt.ylabel('ELBO')\n",
    "    plt.xlabel('Итерации')\n",
    "    plt.subplot(122)\n",
    "    plt.plot(model.scores['perplexity'][1:], color='aqua')\n",
    "    plt.ylabel('Перплексия')\n",
    "    plt.xlabel('Итерации')\n",
    "    plt.tight_layout()\n",
    "    plt.show()\n",
    "show_metrics(model)"
   ],
   "metadata": {
    "collapsed": false
   }
  },
  {
   "cell_type": "code",
   "execution_count": 193,
   "outputs": [
    {
     "name": "stdout",
     "output_type": "stream",
     "text": [
      "topic_0: характер главное информацию бухгалтерского перспективы отдыха вами грузов внутреннеи нам продаже будете знании первыи заключения будешь объекты будут раионе плана\n",
      "topic_1: главное вами информацию перспективы бухгалтерского бизнес отдыха раионе сдачи характер знании целеустремленность первыи microsoft заключения будете объекты деятельность плана конкурсы\n",
      "topic_2: знании отдыха характер объекты построить будете главное раионе трудового руководство процесса организованность обязанности нашу раз строительно внутреннеи дисциплины будешь материалов\n",
      "topic_3: главное характер знании бухгалтерского кандидатов объекты отдыха процесса обязанности внутреннеи построить приглашаем будете трудового строительно информацию новые нам выполнением деятельность\n",
      "topic_4: построить знании характер главное будете раионе материалов кандидатов нам обязанности грузов объекты новые заключения проведении вами сдачи плана трудового первыи\n"
     ]
    }
   ],
   "source": [
    "def show_words_in_topics(model):\n",
    "    N = 20\n",
    "    topic_tokens = {}\n",
    "    for topic, phi in model.phi.iteritems():\n",
    "        topic_tokens[topic] =phi.sort_values(ascending=False).index[:N].tolist()\n",
    "\n",
    "    for topic, tokens in topic_tokens.items():\n",
    "        tokens = ' '.join(tokens)\n",
    "        print(f'{topic}: {tokens}')\n",
    "show_words_in_topics(model)"
   ],
   "metadata": {
    "collapsed": false
   }
  },
  {
   "cell_type": "markdown",
   "source": [
    "блин, вроде чушь какая-то - ничего не интерпретируется"
   ],
   "metadata": {
    "collapsed": false
   }
  },
  {
   "cell_type": "markdown",
   "id": "23ee5a7e",
   "metadata": {},
   "source": [
    "**Задание 5 (1 балл)** \n",
    "\n",
    "Рассмотрите большее число тем (10, 20) и несколько различных начальных приближений. Проанализируйте результаты и ответьте на следующие вопросы: \n",
    "\n",
    "- Mожно ли сказать, что интерпретируемость каждой темы изменяется с ростом их числа?\n",
    "- Устойчив ли алгоритм к начальному приближению на примере идентичности топовых слов в соответствующих темах?\n",
    "- Отражает ли перплексия качество получаемых моделей? В чём заключается причина хорошего/плохого соответствия?"
   ]
  },
  {
   "cell_type": "markdown",
   "id": "986d5718",
   "metadata": {},
   "source": [
    "## Кластеризация"
   ]
  },
  {
   "cell_type": "markdown",
   "id": "0780f411",
   "metadata": {},
   "source": [
    "**Задание 6 (2 балла)** \n",
    "\n",
    "В данном задание следуют сравнить между собой алгоритмы [KMeans](http://scikit-learn.org/stable/modules/generated/sklearn.cluster.KMeans.html), [DBSCAN](http://scikit-learn.org/stable/modules/generated/sklearn.cluster.DBSCAN.html) и [Birch](http://scikit-learn.org/stable/modules/generated/sklearn.cluster.Birch.html) используя подготовленные ранее данные.\n",
    "\n",
    "Поэксперементируйте с различными способами векторизации текста, например можно:\n",
    "\n",
    "- использовать только *name* / *description*, объединить их в один текст или сконкатенировать векторные представления,\n",
    "- использовать представление в виде мешка слов или какую-либо его модификацию,\n",
    "- сократить размерность векторного представления, используя PCA или векторные представления слов,\n",
    "\n",
    "или сделать что-то более интересное, что вы придумаете!\n",
    "\n",
    "Выберете лучшую комбинацию векторизации и алгоритма кластеризации и визуализируйте полученные кластеры (например, воспользовавшись облаком тегов, или предложите свой способ). Обоснуйте почему вы считаете, что выбранный вами подход для решения задачи кластеризации вакансий является лучшим.\n",
    "\n",
    "**Задание \"со звездочкой\" (1 балл)** \n",
    "\n",
    "Попробуйте обогатить векторное представление полученное из текстов другими признаками из таблицы `vacancies.csv` и добиться лучшей интерпретируемости кластеров."
   ]
  },
  {
   "cell_type": "code",
   "execution_count": null,
   "id": "e4d86c25",
   "metadata": {},
   "outputs": [],
   "source": []
  },
  {
   "cell_type": "markdown",
   "id": "91c9e3a6",
   "metadata": {},
   "source": [
    "## Частичное обучение\n",
    "\n",
    "Часто у нас есть размеченная выборка только для небольшой части выборки. Тогда мы можем применить подходы _частичного обучения (semi-supervised learning)_. Более подробно про реализацию таких методов в sklearn можно прочитать в разделе [semi-supervised](http://scikit-learn.org/stable/modules/label_propagation.html#semi-supervised)."
   ]
  },
  {
   "cell_type": "markdown",
   "id": "410401db",
   "metadata": {},
   "source": [
    "**Задание 7 (2 балла)** \n",
    "\n",
    "В этом задание нужно сделать следующее: \n",
    "\n",
    "- Разделите объекты, у которых существуют метки, на обучающую и тестовую выборки (при этом не обязательно делить в соотношении 70% на 30%). Обогатите обучающую выборку объектами без меток.\n",
    "- Воспользовавшись опытом выполнения задания 6, возьмите \"лучшее\" векторное представление вакансий и обучите [LabelSpreading](http://scikit-learn.org/stable/modules/generated/sklearn.semi_supervised.LabelSpreading.html) (подберите лучшие параметры, опираясь на [F1 score](https://scikit-learn.org/stable/modules/generated/sklearn.metrics.f1_score.html)).\n",
    "- Попробуйте запустить алгоритм несколько раз, отмечая известными различные объекты, а также меняя пропорции разбиения, посчитайте качество и визуализируйте результаты. Можно ли сказать что алгоритм сильно зависит от известных начальных объектов? Есть ли класс, для которого это больше всего заметно?"
   ]
  },
  {
   "cell_type": "code",
   "execution_count": null,
   "id": "b4d9b602",
   "metadata": {},
   "outputs": [],
   "source": []
  }
 ],
 "metadata": {
  "kernelspec": {
   "name": "env",
   "language": "python",
   "display_name": "env"
  },
  "language_info": {
   "codemirror_mode": {
    "name": "ipython",
    "version": 3
   },
   "file_extension": ".py",
   "mimetype": "text/x-python",
   "name": "python",
   "nbconvert_exporter": "python",
   "pygments_lexer": "ipython3",
   "version": "3.7.5"
  }
 },
 "nbformat": 4,
 "nbformat_minor": 5
}
